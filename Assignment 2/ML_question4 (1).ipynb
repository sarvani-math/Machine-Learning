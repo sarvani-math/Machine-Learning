{
 "cells": [
  {
   "cell_type": "code",
   "execution_count": 7,
   "id": "422fef97",
   "metadata": {},
   "outputs": [],
   "source": [
    "import pandas as pd\n",
    "import numpy as np\n",
    "from sklearn.svm import NuSVC\n",
    "from sklearn.metrics import accuracy_score\n",
    "from sklearn.svm import SVC"
   ]
  },
  {
   "cell_type": "code",
   "execution_count": 8,
   "id": "54a6f7e7",
   "metadata": {},
   "outputs": [],
   "source": [
    "def listconversion(directory):\n",
    "    datalist = []\n",
    "    with open(directory) as f:\n",
    "        for line in f.readlines():\n",
    "            datalist.append(list(map(float, line.rstrip('\\n').split())))\n",
    "    \n",
    "    return np.array(datalist)"
   ]
  },
  {
   "cell_type": "code",
   "execution_count": 9,
   "id": "fb44ed95",
   "metadata": {},
   "outputs": [],
   "source": [
    "def datasplitting(Data):\n",
    "    actualnumbers = Data[:, 0] \n",
    "    symmetry = Data[:, 2:] \n",
    "    intensity = Data[:, 1] \n",
    "    \n",
    "    return actualnumbers, symmetry, intensity"
   ]
  },
  {
   "cell_type": "code",
   "execution_count": 10,
   "id": "56212f90",
   "metadata": {},
   "outputs": [],
   "source": [
    "def readingdata():\n",
    "    trainingdata = listconversion(\"features.train.txt\")\n",
    "    testingdata = listconversion(\"features.test.txt\")\n",
    "    \n",
    "    numberstrain, symmetry_train, intensity_train = datasplitting(trainingdata)\n",
    "    numberstest, symmetry_test, intensity_test = datasplitting(testingdata)\n",
    "    \n",
    "    return [[numberstrain, symmetry_train, intensity_train], [numberstest, symmetry_test, intensity_test]]"
   ]
  },
  {
   "cell_type": "code",
   "execution_count": 11,
   "id": "6d7fe618",
   "metadata": {},
   "outputs": [],
   "source": [
    "def labels1_5(actualnumbers, trainingdata, labels, class1, class2):\n",
    "    \n",
    "    \n",
    "    class1_in_test_data = np.where(actualnumbers == class1)[0]\n",
    "    class2_in_test_data = np.where(actualnumbers == class2)[0]\n",
    "    \n",
    "  \n",
    "    sorted_indices = np.sort(np.concatenate((class1_in_test_data, class2_in_test_data)))\n",
    "    \n",
    "   \n",
    "    newclassdata = np.take(actualnumbers, sorted_indices)\n",
    "    newtraindata = np.take(trainingdata, sorted_indices)\n",
    "    newlabeldata = np.take(labels, sorted_indices)\n",
    "    \n",
    "   \n",
    "    np.put(newlabeldata, np.where(newclassdata == 1)[0], [1])\n",
    "    np.put(newlabeldata, np.where(newclassdata == 5)[0], [-1])\n",
    "    \n",
    "    return newtraindata, newlabeldata"
   ]
  },
  {
   "cell_type": "code",
   "execution_count": 12,
   "id": "12aa50eb",
   "metadata": {},
   "outputs": [],
   "source": [
    "def linear_get_training_and_test_data():\n",
    "    train_test_data = readingdata()\n",
    "    numberstrain, symmetry_train, intensity_train = train_test_data[0]\n",
    "    numberstest, symmetry_test, intensity_test = train_test_data[1]\n",
    "    \n",
    "    \n",
    "    train_X, train_Y = labels1_5(numberstrain, symmetry_train, intensity_train, 1, 5)\n",
    "    test_X, test_Y = labels1_5(numberstest, symmetry_test, intensity_test, 1, 5)\n",
    "    \n",
    "    return [[train_X, train_Y], [test_X, test_Y]]"
   ]
  },
  {
   "cell_type": "code",
   "execution_count": 13,
   "id": "41d6a5b9",
   "metadata": {},
   "outputs": [],
   "source": [
    "def classifier_generic(classifier, train_X, train_Y, test_X, test_Y):\n",
    "    classifier.fit(train_X.reshape(-1, 1), train_Y)\n",
    "    Y_predicted = classifier.predict(test_X.reshape(-1, 1))\n",
    "    \n",
    "    \n",
    "    training_error = 1-classifier.score(train_X.reshape(-1, 1), train_Y)\n",
    "    test_error = 1-classifier.score(test_X.reshape(-1, 1), test_Y)\n",
    "    num_support_vectors = np.shape(classifier.support_)\n",
    "    accuracy_score_ = accuracy_score(test_Y, Y_predicted)\n",
    "    \n",
    "    return training_error, test_error, num_support_vectors, accuracy_score_"
   ]
  },
  {
   "cell_type": "code",
   "execution_count": 14,
   "id": "ce9fb3ab",
   "metadata": {},
   "outputs": [],
   "source": [
    "def classify_SVM_linear(train_X, train_Y, test_X, test_Y, nu_value_NuSVC = 0.5):\n",
    "    \n",
    "    classifier = NuSVC(nu = nu_value_NuSVC, kernel = 'linear', decision_function_shape = 'ovo')\n",
    "    _, _, number_of_support_vectors, accuracy_score_ = classifier_generic(classifier, train_X, train_Y, test_X, test_Y)    \n",
    "    return number_of_support_vectors, accuracy_score_"
   ]
  },
  {
   "cell_type": "code",
   "execution_count": 15,
   "id": "7bed61d5",
   "metadata": {},
   "outputs": [],
   "source": [
    "def SVM_on_limited_samples(samples, train_X, train_Y, test_X, test_Y):\n",
    "    \n",
    "    num_support_vectors, accuracy_score_ = 0.0, 0.0\n",
    "    nu_value_NuSVC = 0.5\n",
    "    \n",
    "    if samples != 0:\n",
    "        portion_of_train_X = train_X[:samples,]\n",
    "        portion_of_train_Y = train_Y[:samples,]\n",
    "        \n",
    "        if samples == 50:\n",
    "            nu_value_NuSVC = 0.1\n",
    "        \n",
    "        elif samples == 100:\n",
    "            nu_value_NuSVC = 0.2\n",
    "        \n",
    "        elif samples == 200:\n",
    "            nu_value_NuSVC = 0.3\n",
    "            \n",
    "        elif samples == 800:\n",
    "            nu_value_NuSVC = 0.4\n",
    "        num_support_vectors, accuracy_score_ = classify_SVM_linear(portion_of_train_X, portion_of_train_Y, test_X, test_Y, nu_value_NuSVC)\n",
    "    \n",
    "    else:\n",
    "        num_support_vectors, accuracy_score_ = classify_SVM_linear(train_X, train_Y, test_X, test_Y, nu_value_NuSVC)\n",
    "    \n",
    "    return num_support_vectors, accuracy_score_\n"
   ]
  },
  {
   "cell_type": "code",
   "execution_count": 16,
   "id": "79b7d74e",
   "metadata": {},
   "outputs": [],
   "source": [
    "def classify_SVM_Polynomial(train_X, train_Y, test_X, test_Y, Q, C_value):\n",
    "    \n",
    "    classifier = SVC(C = C_value, kernel = 'poly', degree = Q, gamma = 0.4, decision_function_shape = 'ovo')    \n",
    "    training_error, test_error, num_support_vectors, accuracy_score_ = classifier_generic(classifier, train_X, train_Y, test_X, test_Y)    \n",
    "    return training_error, test_error, num_support_vectors, accuracy_score_\n"
   ]
  },
  {
   "cell_type": "code",
   "execution_count": 17,
   "id": "fe58843b",
   "metadata": {},
   "outputs": [],
   "source": [
    "def classify_SVM_RBF_kernel(train_X, train_Y, test_X, test_Y, C_value, gamma_value):\n",
    "    \n",
    "    classifier = SVC(C = C_value, kernel = 'rbf', gamma = gamma_value)\n",
    "    training_error, test_error, _, _ = classifier_generic(classifier, train_X, train_Y, test_X, test_Y)    \n",
    "    return training_error, test_error"
   ]
  },
  {
   "cell_type": "markdown",
   "id": "7cb64851",
   "metadata": {},
   "source": [
    "### PART A & B"
   ]
  },
  {
   "cell_type": "code",
   "execution_count": 20,
   "id": "eb0d5dc1",
   "metadata": {},
   "outputs": [
    {
     "name": "stdout",
     "output_type": "stream",
     "text": [
      "No of samples: 0 no of support vectors: (782,) accuracy score: 0.9834905660377359\n",
      "No of samples: 50 no of support vectors: (6,) accuracy score: 0.9811320754716981\n",
      "No of samples: 100 no of support vectors: (20,) accuracy score: 0.9811320754716981\n",
      "No of samples: 200 no of support vectors: (60,) accuracy score: 0.9811320754716981\n",
      "No of samples: 800 no of support vectors: (320,) accuracy score: 0.9811320754716981\n"
     ]
    }
   ],
   "source": [
    "no_of_samples = [0, 50, 100, 200, 800]\n",
    "\n",
    "train_test_data = linear_get_training_and_test_data()\n",
    "train_X, train_Y = train_test_data[0]\n",
    "test_X, test_Y = train_test_data[1]\n",
    "\n",
    "\n",
    "for i in no_of_samples:\n",
    "    num_support_vectors, accuracy_score_ = SVM_on_limited_samples(i, train_X, train_Y, test_X, test_Y)\n",
    "    print(\"No of samples:\",i,\"no of support vectors:\",num_support_vectors,\"accuracy score:\",accuracy_score_)"
   ]
  },
  {
   "cell_type": "markdown",
   "id": "209afbcd",
   "metadata": {},
   "source": [
    "### PART C"
   ]
  },
  {
   "cell_type": "code",
   "execution_count": 21,
   "id": "83275560",
   "metadata": {},
   "outputs": [
    {
     "name": "stdout",
     "output_type": "stream",
     "text": [
      "Q= 2 C= 1 Training error: 0.004484304932735439 test error: 0.018867924528301883 Support vectors: (24,) Accuracy score: 0.9811320754716981\n",
      "Q= 2 C= 0.1 Training error: 0.004484304932735439 test error: 0.018867924528301883 Support vectors: (30,) Accuracy score: 0.9811320754716981\n",
      "Q= 2 C= 0.01 Training error: 0.004484304932735439 test error: 0.01650943396226412 Support vectors: (64,) Accuracy score: 0.9834905660377359\n",
      "Q= 2 C= 0.001 Training error: 0.00832799487508007 test error: 0.021226415094339646 Support vectors: (190,) Accuracy score: 0.9787735849056604\n",
      "Q= 2 C= 0.0001 Training error: 0.029468289557975647 test error: 0.04481132075471694 Support vectors: (642,) Accuracy score: 0.9551886792452831\n",
      "Q= 5 C= 1 Training error: 0.004484304932735439 test error: 0.01650943396226412 Support vectors: (26,) Accuracy score: 0.9834905660377359\n",
      "Q= 5 C= 0.1 Training error: 0.004484304932735439 test error: 0.01650943396226412 Support vectors: (26,) Accuracy score: 0.9834905660377359\n",
      "Q= 5 C= 0.01 Training error: 0.004484304932735439 test error: 0.01650943396226412 Support vectors: (26,) Accuracy score: 0.9834905660377359\n",
      "Q= 5 C= 0.001 Training error: 0.005124919923126248 test error: 0.01650943396226412 Support vectors: (32,) Accuracy score: 0.9834905660377359\n",
      "Q= 5 C= 0.0001 Training error: 0.00832799487508007 test error: 0.021226415094339646 Support vectors: (60,) Accuracy score: 0.9787735849056604\n"
     ]
    }
   ],
   "source": [
    "Q = [2, 5]\n",
    "for degree in Q:\n",
    "    for exponent in range(0, 5):\n",
    "        C_value = 1 * pow(10, -exponent)\n",
    "        training_error, test_error, num_support_vectors, accuracy_score_ = classify_SVM_Polynomial(train_X, train_Y, test_X, test_Y, degree, C_value)\n",
    "        print(\"Q=\",degree,\"C=\",C_value,\"Training error:\",training_error,\"test error:\",test_error,\"Support vectors:\", num_support_vectors,\"Accuracy score:\",accuracy_score_)"
   ]
  },
  {
   "cell_type": "markdown",
   "id": "5b6b9d4f",
   "metadata": {},
   "source": [
    "### PART D"
   ]
  },
  {
   "cell_type": "code",
   "execution_count": 22,
   "id": "34900ca7",
   "metadata": {},
   "outputs": [
    {
     "name": "stdout",
     "output_type": "stream",
     "text": [
      "C value:   0.01   train_error:   0.00832799487508007   Test_error:   0.04481132075471694\n",
      "C value:   1   train_error:   0.004484304932735439   Test_error:   0.021226415094339646\n",
      "C value:   100   train_error:   0.004484304932735439   Test_error:   0.021226415094339646\n",
      "C value:   10000   train_error:   0.004484304932735439   Test_error:   0.018867924528301883\n",
      "C value:   1000000   train_error:   0.004484304932735439   Test_error:   0.021226415094339646\n"
     ]
    }
   ],
   "source": [
    "for i in range(-2, 8, 2):\n",
    "    C_value = 1 * pow(10, i)\n",
    "    gamma_value = 0\n",
    "    if C_value >= 10:\n",
    "        gamma_value = 0.01\n",
    "    else:\n",
    "        gamma_value = 10\n",
    "    training_error, test_error = classify_SVM_RBF_kernel(train_X, train_Y, test_X, test_Y, C_value, gamma_value)\n",
    "    print(\"C value:  \",C_value,\"  train_error:  \",training_error,\"  Test_error:  \",test_error)    "
   ]
  },
  {
   "cell_type": "code",
   "execution_count": null,
   "id": "d18104d0",
   "metadata": {},
   "outputs": [],
   "source": []
  }
 ],
 "metadata": {
  "kernelspec": {
   "display_name": "Python 3",
   "language": "python",
   "name": "python3"
  },
  "language_info": {
   "codemirror_mode": {
    "name": "ipython",
    "version": 3
   },
   "file_extension": ".py",
   "mimetype": "text/x-python",
   "name": "python",
   "nbconvert_exporter": "python",
   "pygments_lexer": "ipython3",
   "version": "3.8.8"
  }
 },
 "nbformat": 4,
 "nbformat_minor": 5
}
