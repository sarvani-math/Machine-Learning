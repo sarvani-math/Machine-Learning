{
 "cells": [
  {
   "cell_type": "code",
   "execution_count": 20,
   "id": "d8f3d137-086e-43f1-b2ce-a05461d83e3d",
   "metadata": {},
   "outputs": [],
   "source": [
    "import numpy as np\n",
    "import pandas as pd\n",
    "import matplotlib.pyplot as plt\n",
    "%matplotlib inline\n",
    "import sklearn\n",
    "from sklearn.preprocessing import StandardScaler\n",
    "from sklearn.metrics import accuracy_score\n",
    "from sklearn.metrics import precision_score\n",
    "from sklearn.metrics import recall_score\n"
   ]
  },
  {
   "cell_type": "code",
   "execution_count": 2,
   "id": "f7cad093-a61f-4301-98b3-d1fa0b4631c5",
   "metadata": {},
   "outputs": [],
   "source": [
    "train=pd.read_csv(\"logistic_traindata.txt\",sep=\" \")\n",
    "x_train=train.iloc[:,:-1].values\n",
    "y_train=train.iloc[:,-1:].values\n",
    "test=pd.read_csv(\"logistic_testdata.txt\",sep=\" \")\n",
    "x_test=test.iloc[:,:-1].values\n",
    "y_test=test.iloc[:,-1:].values \n",
    " \n",
    "  "
   ]
  },
  {
   "cell_type": "code",
   "execution_count": 24,
   "id": "7832db29",
   "metadata": {},
   "outputs": [
    {
     "data": {
      "text/plain": [
       "array([[0.346, 0.78 ],\n",
       "       [0.303, 0.439],\n",
       "       [0.358, 0.729],\n",
       "       [0.602, 0.863],\n",
       "       [0.79 , 0.753],\n",
       "       [0.611, 0.965]])"
      ]
     },
     "execution_count": 24,
     "metadata": {},
     "output_type": "execute_result"
    }
   ],
   "source": [
    "x_train"
   ]
  },
  {
   "cell_type": "code",
   "execution_count": 25,
   "id": "b552114e",
   "metadata": {},
   "outputs": [
    {
     "data": {
      "text/plain": [
       "array([[0.959, 0.382],\n",
       "       [0.75 , 0.306],\n",
       "       [0.395, 0.76 ],\n",
       "       [0.823, 0.764],\n",
       "       [0.761, 0.874],\n",
       "       [0.844, 0.435]])"
      ]
     },
     "execution_count": 25,
     "metadata": {},
     "output_type": "execute_result"
    }
   ],
   "source": [
    "x_test"
   ]
  },
  {
   "cell_type": "code",
   "execution_count": 26,
   "id": "298469bb",
   "metadata": {},
   "outputs": [
    {
     "data": {
      "text/plain": [
       "array([[0],\n",
       "       [0],\n",
       "       [0],\n",
       "       [1],\n",
       "       [1],\n",
       "       [1]], dtype=int64)"
      ]
     },
     "execution_count": 26,
     "metadata": {},
     "output_type": "execute_result"
    }
   ],
   "source": [
    "y_train"
   ]
  },
  {
   "cell_type": "code",
   "execution_count": 27,
   "id": "e3bb414f",
   "metadata": {},
   "outputs": [
    {
     "data": {
      "text/plain": [
       "array([[0],\n",
       "       [0],\n",
       "       [0],\n",
       "       [1],\n",
       "       [1],\n",
       "       [1]], dtype=int64)"
      ]
     },
     "execution_count": 27,
     "metadata": {},
     "output_type": "execute_result"
    }
   ],
   "source": [
    "y_test"
   ]
  },
  {
   "cell_type": "markdown",
   "id": "b91c4530",
   "metadata": {},
   "source": [
    "# 5-a"
   ]
  },
  {
   "cell_type": "code",
   "execution_count": 17,
   "id": "4e3fbe9f",
   "metadata": {},
   "outputs": [],
   "source": [
    "def sigmoid_activation(result):\n",
    "    final_result = 1/(1+np.exp(-result))\n",
    "    return final_result"
   ]
  },
  {
   "cell_type": "code",
   "execution_count": 18,
   "id": "dfb58d6a-abb6-4b12-9bdc-d66075ef0bb4",
   "metadata": {},
   "outputs": [],
   "source": [
    "def weightInitialization(n_features):\n",
    "    w = np.zeros((1,n_features))\n",
    "    b = 0\n",
    "    return w,b"
   ]
  },
  {
   "cell_type": "code",
   "execution_count": 19,
   "id": "319faed5-a528-4aae-8431-a68bcd16f990",
   "metadata": {},
   "outputs": [],
   "source": [
    "def model_optimize(w, b, X, Y):\n",
    "    m = X.shape[0]\n",
    "    \n",
    "    #Prediction\n",
    "    final_result = sigmoid_activation(np.dot(w,X.T)+b)\n",
    "    Y_T = Y.T\n",
    "    cost = (-1/m)*(np.sum((Y_T*np.log(final_result)) + ((1-Y_T)*(np.log(1-final_result)))))\n",
    "    #\n",
    "    \n",
    "    #Gradient calculation\n",
    "    dw = (1/m)*(np.dot(X.T, (final_result-Y.T).T))\n",
    "    db = (1/m)*(np.sum(final_result-Y.T))\n",
    "    \n",
    "    grad = {\"dw\": dw, \"db\": db}\n",
    "    \n",
    "    return grad, cost\n"
   ]
  },
  {
   "cell_type": "code",
   "execution_count": 9,
   "id": "8875fcca-4cde-46b6-8091-235ecd12eb7e",
   "metadata": {},
   "outputs": [],
   "source": [
    "def model_predict(w, b, X, Y, learning_rate, no_iterations):\n",
    "    costs = []\n",
    "    W=[]\n",
    "    for i in range(no_iterations):\n",
    "        #\n",
    "        grads, cost = model_optimize(w,b,X,Y)\n",
    "        #\n",
    "        dw = grads[\"dw\"]\n",
    "        db = grads[\"db\"]\n",
    "        #\n",
    "        w = w - (learning_rate * (dw.T))\n",
    "        b = b - (learning_rate * db)\n",
    "        #\n",
    "        \n",
    "        if (i % 100 == 0):\n",
    "            costs.append(cost)\n",
    "            W.append(w[0][0])\n",
    "           \n",
    "    plt.plot(W,costs)\n",
    "    plt.show()\n",
    "\n",
    "    \n",
    "    \n",
    "    coeff = {\"w\": w, \"b\": b}\n",
    "    gradient = {\"dw\": dw, \"db\": db}\n",
    "    \n",
    "    return coeff, gradient, costs,W"
   ]
  },
  {
   "cell_type": "code",
   "execution_count": 10,
   "id": "78433b03-9314-4b38-8c37-b734dfcf8236",
   "metadata": {},
   "outputs": [],
   "source": [
    "def predict(final_pred, m):\n",
    "    y_pred = np.zeros((1,m))\n",
    "    for i in range(final_pred.shape[1]):\n",
    "        if final_pred[0][i] > 0.5:\n",
    "            y_pred[0][i] = 1\n",
    "    return y_pred\n"
   ]
  },
  {
   "cell_type": "code",
   "execution_count": 12,
   "id": "7b650f65-be79-42d1-8beb-f444096e4eef",
   "metadata": {},
   "outputs": [
    {
     "name": "stdout",
     "output_type": "stream",
     "text": [
      "Number of Features 2\n"
     ]
    },
    {
     "data": {
      "image/png": "[encoded data removed]",
      "text/plain": [
       "<Figure size 432x288 with 1 Axes>"
      ]
     },
     "metadata": {
      "needs_background": "light"
     },
     "output_type": "display_data"
    },
    {
     "name": "stdout",
     "output_type": "stream",
     "text": [
      "Optimized weights [[2.16160425 0.71079827]]\n",
      "Optimized intercept -1.4763538244350112\n",
      "Training Accuracy 1.0\n",
      "Test Accuracy 0.6666666666666666\n"
     ]
    }
   ],
   "source": [
    "n_features = x_train.shape[1]\n",
    "print('Number of Features', n_features)\n",
    "w, b = weightInitialization(n_features)\n",
    "coeff, gradient, costs,W = model_predict(w, b, x_train, y_train, learning_rate=0.1,no_iterations=400)\n",
    "w = coeff[\"w\"]\n",
    "b = coeff[\"b\"]\n",
    "print('Optimized weights', w)\n",
    "print('Optimized intercept',b)\n",
    "\n",
    "final_train_pred = sigmoid_activation(np.dot(w,x_train.T)+b)\n",
    "final_test_pred = sigmoid_activation(np.dot(w,x_test.T)+b)\n",
    "\n",
    "m_tr =  x_train.shape[0]\n",
    "m_ts =  x_test.shape[0]\n",
    "\n",
    "y_tr_pred = predict(final_train_pred, m_tr)\n",
    "print('Training Accuracy',accuracy_score(y_tr_pred.T, y_train))\n",
    "\n",
    "y_ts_pred = predict(final_test_pred, m_ts)\n",
    "print('Test Accuracy',accuracy_score(y_ts_pred.T, y_train))"
   ]
  },
  {
   "cell_type": "markdown",
   "id": "6be609b1-0e61-4d29-b05a-f0b2953d542e",
   "metadata": {},
   "source": [
    "# 5-b"
   ]
  },
  {
   "cell_type": "code",
   "execution_count": 21,
   "id": "cc475062-3d31-4e19-b7e0-e0f34caa3826",
   "metadata": {},
   "outputs": [
    {
     "name": "stdout",
     "output_type": "stream",
     "text": [
      "[0.47726569 0.4192142  0.47539489 0.58285389 0.63679954 0.59844738]\n"
     ]
    }
   ],
   "source": [
    "w=[1.5,0.5]\n",
    "b=-1\n",
    "logistic_model = sigmoid_activation(np.dot(w,x_train.T)+b)\n",
    "print(logistic_model)"
   ]
  },
  {
   "cell_type": "code",
   "execution_count": 22,
   "id": "05adc1d8-b7f4-419e-9b69-51c51dda143b",
   "metadata": {},
   "outputs": [
    {
     "name": "stdout",
     "output_type": "stream",
     "text": [
      "4.24695047852859\n"
     ]
    }
   ],
   "source": [
    "#Cross-entropy error function\n",
    "w=[1.5,0.5]\n",
    "b=-1\n",
    "m=x_train.shape[0]\n",
    "cost = (-1/m)*(np.sum((y_train*np.log(logistic_model)) + ((1-y_train)*(np.log(1-logistic_model)))))\n",
    "print(cost)"
   ]
  },
  {
   "cell_type": "markdown",
   "id": "f1154272-1ed4-40d0-990d-00c2e86d3918",
   "metadata": {},
   "source": [
    "### 5b)Use gradient descent to update θ0, θ1, θ2 for one iteration. Write down the updated logistic regression model."
   ]
  },
  {
   "cell_type": "code",
   "execution_count": 15,
   "id": "0c962018-45cc-44bd-84f6-3c9529ddd2bc",
   "metadata": {},
   "outputs": [
    {
     "data": {
      "image/png": "[encoded data removed]",
      "text/plain": [
       "<Figure size 432x288 with 1 Axes>"
      ]
     },
     "metadata": {
      "needs_background": "light"
     },
     "output_type": "display_data"
    },
    {
     "name": "stdout",
     "output_type": "stream",
     "text": [
      "Optimized weights [[1.50535086 0.50196867]]\n",
      "Optimized intercept -1.0031662597725644\n",
      "Training Accuracy 1.0\n",
      "Test Accuracy 0.6666666666666666\n"
     ]
    }
   ],
   "source": [
    "w=[1.5,0.5]\n",
    "b=-1\n",
    "from sklearn.metrics import accuracy_score\n",
    "n_features = x_train.shape[1]\n",
    "coeff, gradient, costs,W = model_predict(w, b, x_train, y_train, learning_rate=0.1,no_iterations=1)\n",
    "w = coeff[\"w\"]\n",
    "b = coeff[\"b\"]\n",
    "print('Optimized weights', w)\n",
    "print('Optimized intercept',b)\n",
    "\n",
    "final_train_pred = sigmoid_activation(np.dot(w,x_train.T)+b)\n",
    "final_test_pred = sigmoid_activation(np.dot(w,x_test.T)+b)\n",
    "\n",
    "m_tr =  x_train.shape[0]\n",
    "m_ts =  x_test.shape[0]\n",
    "\n",
    "y_tr_pred = predict(final_train_pred, m_tr)\n",
    "print('Training Accuracy',accuracy_score(y_tr_pred.T, y_train))\n",
    "\n",
    "y_ts_pred = predict(final_test_pred, m_ts)\n",
    "print('Test Accuracy',accuracy_score(y_ts_pred.T, y_train))"
   ]
  },
  {
   "cell_type": "markdown",
   "id": "86c3dec7-f116-41a4-b296-7a3d64bb0ba1",
   "metadata": {},
   "source": [
    "# 5-c"
   ]
  },
  {
   "cell_type": "code",
   "execution_count": 16,
   "id": "811efdee-a7bb-41c2-a538-2f29e36b05f7",
   "metadata": {},
   "outputs": [
    {
     "name": "stdout",
     "output_type": "stream",
     "text": [
      "Number of Features 2\n"
     ]
    },
    {
     "data": {
      "image/png": "[encoded data removed]",
      "text/plain": [
       "<Figure size 432x288 with 1 Axes>"
      ]
     },
     "metadata": {
      "needs_background": "light"
     },
     "output_type": "display_data"
    },
    {
     "name": "stdout",
     "output_type": "stream",
     "text": [
      "Optimized weights [[31.36347263  7.53262099]]\n",
      "Optimized intercept -21.190551572578155\n",
      "Training Accuracy 1.0\n",
      "Test Accuracy 0.6666666666666666\n",
      "precision 0.6\n",
      "recall 1.0\n"
     ]
    },
    {
     "data": {
      "image/png": "[encoded data removed]",
      "text/plain": [
       "<Figure size 432x288 with 1 Axes>"
      ]
     },
     "metadata": {
      "needs_background": "light"
     },
     "output_type": "display_data"
    }
   ],
   "source": [
    "w=[1.5,0.5]\n",
    "b=-1\n",
    "\n",
    "\n",
    "n_features = x_train.shape[1]\n",
    "print('Number of Features', n_features)\n",
    "\n",
    "coeff, gradient, costs,W = model_predict(w, b, x_train, y_train, learning_rate=0.1,no_iterations=100000)\n",
    "\n",
    "w = coeff[\"w\"]\n",
    "b = coeff[\"b\"]\n",
    "print('Optimized weights', w)\n",
    "print('Optimized intercept',b)\n",
    "\n",
    "final_train_pred = sigmoid_activation(np.dot(w,x_train.T)+b)\n",
    "final_test_pred = sigmoid_activation(np.dot(w,x_test.T)+b)\n",
    "\n",
    "m_tr =  x_train.shape[0]\n",
    "m_ts =  x_test.shape[0]\n",
    "\n",
    "y_tr_pred = predict(final_train_pred, m_tr)\n",
    "print('Training Accuracy',accuracy_score(y_tr_pred.T, y_train))\n",
    "\n",
    "y_ts_pred = predict(final_test_pred, m_ts)\n",
    "print('Test Accuracy',accuracy_score(y_ts_pred.T, y_train))\n",
    "print('precision',precision_score(y_test,y_ts_pred.T))\n",
    "print('recall',recall_score(y_test,y_ts_pred.T))\n",
    "\n",
    "plt.plot(costs)\n",
    "plt.ylabel('cost')\n",
    "plt.xlabel('iterations (per hundreds)')\n",
    "plt.title('Cost reduction over time')\n",
    "plt.show()"
   ]
  },
  {
   "cell_type": "code",
   "execution_count": null,
   "id": "340e9251-579e-4326-b6ab-fb555be595c3",
   "metadata": {},
   "outputs": [],
   "source": []
  }
 ],
 "metadata": {
  "kernelspec": {
   "display_name": "Python 3",
   "language": "python",
   "name": "python3"
  },
  "language_info": {
   "codemirror_mode": {
    "name": "ipython",
    "version": 3
   },
   "file_extension": ".py",
   "mimetype": "text/x-python",
   "name": "python",
   "nbconvert_exporter": "python",
   "pygments_lexer": "ipython3",
   "version": "3.8.8"
  }
 },
 "nbformat": 4,
 "nbformat_minor": 5
}
